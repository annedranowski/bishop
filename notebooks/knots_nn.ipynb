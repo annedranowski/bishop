{
 "cells": [
  {
   "cell_type": "markdown",
   "metadata": {},
   "source": [
    "# In this notebook...\n",
    "\n",
    "We train a vanilla neural network on the data generated in the knots_generator notebook"
   ]
  },
  {
   "cell_type": "code",
   "execution_count": null,
   "metadata": {},
   "outputs": [],
   "source": [
    "# extract .zip\n",
    "import zipfile\n",
    "with zipfile.ZipFile(\"..data/zipped/knots.zip\",\"r\") as zip_ref:\n",
    "    zip_ref.extractall(\"/content\")"
   ]
  }
 ],
 "metadata": {
  "language_info": {
   "name": "python"
  }
 },
 "nbformat": 4,
 "nbformat_minor": 2
}
