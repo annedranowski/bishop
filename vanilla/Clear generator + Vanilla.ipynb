{
  "nbformat": 4,
  "nbformat_minor": 0,
  "metadata": {
    "colab": {
      "provenance": [],
      "gpuType": "T4",
      "collapsed_sections": [
        "ZyPzXXD3DUzS",
        "MSQRB65ls3KR"
      ]
    },
    "kernelspec": {
      "name": "python3",
      "display_name": "Python 3"
    },
    "language_info": {
      "name": "python"
    },
    "accelerator": "GPU"
  },
  "cells": [
    {
      "cell_type": "markdown",
      "source": [
        "# Second db"
      ],
      "metadata": {
        "id": "ZyPzXXD3DUzS"
      }
    },
    {
      "cell_type": "code",
      "source": [
        "IMG_SIZE = 480\n",
        "\n",
        "RESIZE_SIZE = 128\n",
        "\n",
        "import torch\n",
        "from PIL import Image"
      ],
      "metadata": {
        "id": "hgDWr1OSHtFK"
      },
      "execution_count": 1,
      "outputs": []
    },
    {
      "cell_type": "code",
      "source": [
        "!pip install cairosvg"
      ],
      "metadata": {
        "colab": {
          "base_uri": "https://localhost:8080/"
        },
        "id": "EME6jRC3pr28",
        "outputId": "ca33c099-7349-4ae1-8190-11a2b7674405"
      },
      "execution_count": 2,
      "outputs": [
        {
          "output_type": "stream",
          "name": "stdout",
          "text": [
            "Collecting cairosvg\n",
            "  Downloading CairoSVG-2.7.1-py3-none-any.whl.metadata (2.7 kB)\n",
            "Collecting cairocffi (from cairosvg)\n",
            "  Downloading cairocffi-1.7.1-py3-none-any.whl.metadata (3.3 kB)\n",
            "Collecting cssselect2 (from cairosvg)\n",
            "  Downloading cssselect2-0.8.0-py3-none-any.whl.metadata (2.9 kB)\n",
            "Requirement already satisfied: defusedxml in /usr/local/lib/python3.11/dist-packages (from cairosvg) (0.7.1)\n",
            "Requirement already satisfied: pillow in /usr/local/lib/python3.11/dist-packages (from cairosvg) (11.1.0)\n",
            "Requirement already satisfied: tinycss2 in /usr/local/lib/python3.11/dist-packages (from cairosvg) (1.4.0)\n",
            "Requirement already satisfied: cffi>=1.1.0 in /usr/local/lib/python3.11/dist-packages (from cairocffi->cairosvg) (1.17.1)\n",
            "Requirement already satisfied: webencodings in /usr/local/lib/python3.11/dist-packages (from cssselect2->cairosvg) (0.5.1)\n",
            "Requirement already satisfied: pycparser in /usr/local/lib/python3.11/dist-packages (from cffi>=1.1.0->cairocffi->cairosvg) (2.22)\n",
            "Downloading CairoSVG-2.7.1-py3-none-any.whl (43 kB)\n",
            "\u001b[2K   \u001b[90m━━━━━━━━━━━━━━━━━━━━━━━━━━━━━━━━━━━━━━━━\u001b[0m \u001b[32m43.2/43.2 kB\u001b[0m \u001b[31m2.5 MB/s\u001b[0m eta \u001b[36m0:00:00\u001b[0m\n",
            "\u001b[?25hDownloading cairocffi-1.7.1-py3-none-any.whl (75 kB)\n",
            "\u001b[2K   \u001b[90m━━━━━━━━━━━━━━━━━━━━━━━━━━━━━━━━━━━━━━━━\u001b[0m \u001b[32m75.6/75.6 kB\u001b[0m \u001b[31m5.9 MB/s\u001b[0m eta \u001b[36m0:00:00\u001b[0m\n",
            "\u001b[?25hDownloading cssselect2-0.8.0-py3-none-any.whl (15 kB)\n",
            "Installing collected packages: cssselect2, cairocffi, cairosvg\n",
            "Successfully installed cairocffi-1.7.1 cairosvg-2.7.1 cssselect2-0.8.0\n"
          ]
        }
      ]
    },
    {
      "cell_type": "code",
      "source": [
        "import shutil\n",
        "import os\n",
        "\n",
        "save_dir = \"/content/saved_knots/\"\n",
        "try:\n",
        "  shutil.rmtree(save_dir)\n",
        "except:\n",
        "  pass\n",
        "\n",
        "try:\n",
        "    os.makedirs(save_dir)\n",
        "except FileExistsError:\n",
        "    print(f\"One or more directories in '{save_dir}' already exist.\")\n",
        "except PermissionError:\n",
        "    print(f\"Permission denied: Unable to create '{save_dir}'.\")\n",
        "except Exception as e:\n",
        "    print(f\"An error occurred: {e}\")\n",
        "\n",
        "save_dir = \"/content/new_knots_svg/\"\n",
        "try:\n",
        "  shutil.rmtree(save_dir)\n",
        "except:\n",
        "  pass\n",
        "\n",
        "try:\n",
        "    os.makedirs(save_dir)\n",
        "except FileExistsError:\n",
        "    print(f\"One or more directories in '{save_dir}' already exist.\")\n",
        "except PermissionError:\n",
        "    print(f\"Permission denied: Unable to create '{save_dir}'.\")\n",
        "except Exception as e:\n",
        "    print(f\"An error occurred: {e}\")\n",
        "\n",
        "save_dir = \"/content/new_knots_png/\"\n",
        "try:\n",
        "  shutil.rmtree(save_dir)\n",
        "except:\n",
        "  pass\n",
        "\n",
        "try:\n",
        "    os.makedirs(save_dir)\n",
        "except FileExistsError:\n",
        "    print(f\"One or more directories in '{save_dir}' already exist.\")\n",
        "except PermissionError:\n",
        "    print(f\"Permission denied: Unable to create '{save_dir}'.\")\n",
        "except Exception as e:\n",
        "    print(f\"An error occurred: {e}\")"
      ],
      "metadata": {
        "id": "UJKLwMy7paun"
      },
      "execution_count": 3,
      "outputs": []
    },
    {
      "cell_type": "code",
      "source": [
        "def is_in_neighbourhood(x: tuple, y: tuple, epsilon: tuple):\n",
        "  for i in range(len(x)):\n",
        "    if (abs(x[i] - y[i]) > epsilon[i]):\n",
        "      return False\n",
        "  return True"
      ],
      "metadata": {
        "id": "i3j-EzMIpp-c"
      },
      "execution_count": 4,
      "outputs": []
    },
    {
      "cell_type": "code",
      "source": [
        "# db from https://prideout.net/blog/svg_knots\n",
        "import urllib.request\n",
        "import cairosvg\n",
        "from PIL import Image\n",
        "import PIL.ImageOps\n",
        "import numpy as np\n",
        "from skimage.morphology import skeletonize\n",
        "from skimage.transform import resize\n",
        "from skimage.util import invert\n",
        "import matplotlib.pyplot as plt\n",
        "\n",
        "knots_count_1 = [1, 0, 0, 1, 1, 2, 3, 7, 21, 49, 3] # number of knots with i crossings represented on the https://prideout.net/blog/svg_knots/knottable_v1.svg\n",
        "\n",
        "import zipfile\n",
        "import shutil\n",
        "\n",
        "save_dir = \"/content/new_knots_png/\"\n",
        "try:\n",
        "  shutil.rmtree(save_dir)\n",
        "except:\n",
        "  pass\n",
        "\n",
        "with zipfile.ZipFile(f\"/content/knots_aug_4096_resized.zip\",\"r\") as zip_ref:\n",
        "      zip_ref.extractall(\"/content\")\n",
        "\n",
        "# structure of .zip archive (for now) is archive.zip/content/saved_knots/, so after unpacking it we get /content/content/saved_knots dir, which is not comfortable to work with,\n",
        "shutil.move(\"/content/content/new_knots_png\", \"/content\") # so we move it 'higher' one level\n",
        "shutil.rmtree(\"/content/content\") # and delete previous one"
      ],
      "metadata": {
        "id": "sjDOkHWFpece"
      },
      "execution_count": 5,
      "outputs": []
    },
    {
      "cell_type": "code",
      "source": [
        "import torchvision.transforms as transforms\n",
        "\n",
        "def png_to_tensor(path : str =None, png_image : Image =None) -> torch.Tensor:\n",
        "  if(path != None):\n",
        "    png_image = Image.open(path)\n",
        "  transform = transforms.PILToTensor()\n",
        "  return transform(png_image)\n",
        "\n",
        "def tensor_to_png(tensor_image) -> Image:\n",
        "  transform = transforms.ToPILImage()\n",
        "  return transform(tensor_image)"
      ],
      "metadata": {
        "id": "yxHZbZY_tVIx"
      },
      "execution_count": 6,
      "outputs": []
    },
    {
      "cell_type": "code",
      "source": [
        "IMG_SIZE = RESIZE_SIZE"
      ],
      "metadata": {
        "id": "DyieLUBzml4W"
      },
      "execution_count": 7,
      "outputs": []
    },
    {
      "cell_type": "code",
      "source": [
        "knots_count = knots_count_1.copy()"
      ],
      "metadata": {
        "id": "KgmFT8aerq0z"
      },
      "execution_count": 8,
      "outputs": []
    },
    {
      "cell_type": "code",
      "source": [
        "# apply first transforms to \"nonlinearity\"\n",
        "import numpy as np\n",
        "import skimage as ski\n",
        "from torchvision.transforms import v2\n",
        "import os\n",
        "\n",
        "fill_color = (0, 162, 232)\n",
        "\n",
        "for file in os.listdir(\"/content/new_knots_png\"):\n",
        "  img = Image.open(f\"/content/new_knots_png/{file}\").convert('L')\n",
        "  pixels = img.load()\n",
        "  for x in range(IMG_SIZE):\n",
        "    for y in range(IMG_SIZE):\n",
        "      if pixels[x, y] < 225:\n",
        "        pixels[x, y] = 0\n",
        "      else:\n",
        "        pixels[x, y] = 255\n",
        "\n",
        "  img.convert('RGB').save(f\"/content/new_knots_png/{file}\")\n",
        "\n",
        "  img = png_to_tensor(f\"/content/new_knots_png/{file}\")\n",
        "  perspective_transformer = v2.RandomPerspective(distortion_scale=0.6, p=1.0, fill=fill_color)\n",
        "  img = perspective_transformer(img)\n",
        "  tensor_to_png(img).convert(\"RGB\").save(f\"/content/new_knots_png/{file}\")\n",
        "\n",
        "  img = Image.open(f\"/content/new_knots_png/{file}\").convert('RGB')\n",
        "  pixels = img.load()\n",
        "  border = []\n",
        "  for i in range(IMG_SIZE):\n",
        "    border.append((0, i))\n",
        "    border.append((i, 0))\n",
        "\n",
        "  for x in range(1, IMG_SIZE-1):\n",
        "    for y in range(1, IMG_SIZE-1):\n",
        "      if (pixels[x-1, y-1] != fill_color or pixels[x-1, y] != fill_color or pixels[x-1, y+1] != fill_color or\n",
        "         pixels[x, y-1] != fill_color or pixels[x, y+1] != fill_color or\n",
        "         pixels[x+1, y-1] != fill_color or pixels[x+1, y] != fill_color or pixels[x+1, y+1] != fill_color) and pixels[x, y] == fill_color:\n",
        "        border.append((x, y))\n",
        "\n",
        "  for (x, y) in border:\n",
        "    for c1 in range(-1, 2, 1):\n",
        "      for c2 in range(-1, 2, 1):\n",
        "        if (x+c1 >= 0 and x+c1 < IMG_SIZE) and (y+c2 >= 0 and y+c2 < IMG_SIZE):\n",
        "          pixels[x+c1, y+c2] = fill_color\n",
        "\n",
        "  for x in range(IMG_SIZE):\n",
        "    for y in range(IMG_SIZE):\n",
        "      if pixels[x, y] == fill_color:\n",
        "        pixels[x, y] = (255, 255, 255)\n",
        "\n",
        "  img.convert('RGB').save(f\"/content/new_knots_png/{file}\")"
      ],
      "metadata": {
        "id": "9rpJLzHHmePd"
      },
      "execution_count": 9,
      "outputs": []
    },
    {
      "cell_type": "code",
      "source": [
        "# apply transforms to them!\n",
        "import math\n",
        "import random\n",
        "\n",
        "# numbers of available transformations\n",
        "k = 3\n",
        "\n",
        "# max number of times of transforms\n",
        "MAX_N = max(knots_count) # n(0) = max; N(0) = 1; n(11) = 1; N(11) = knots_count[11] => from formula obtain MAX_N = knots_count[11]; prev was 2**k\n",
        "\n",
        "def save_transforms(filename, orig_dir):\n",
        "  try:\n",
        "    orig_img = png_to_tensor(path=orig_dir + filename + \".png\")\n",
        "  except Exception as e:\n",
        "    print(f\"Error: {e}\")\n",
        "    return\n",
        "\n",
        "  # see https://pytorch.org/vision/0.20/auto_examples/transforms/plot_transforms_illustrations.html#sphx-glr-auto-examples-transforms-plot-transforms-illustrations-py\n",
        "\n",
        "  # random rotation\n",
        "  rotater = v2.RandomRotation(degrees=(0, 180), expand=False, fill=255)\n",
        "\n",
        "  # horizontal flip\n",
        "  hflipper = v2.RandomHorizontalFlip(p=1)\n",
        "\n",
        "  # vertical flip\n",
        "  vflipper = v2.RandomVerticalFlip(p=1)\n",
        "\n",
        "  list_of_transforms = torch.nn.ModuleList([rotater, hflipper, vflipper])\n",
        "\n",
        "  # create and save the results\n",
        "  save_dir = f\"/content/saved_knots/{filename.split('_')[0]}\"\n",
        "  try:\n",
        "      os.makedirs(save_dir)\n",
        "  except FileExistsError:\n",
        "      print(f\"One or more directories in '{save_dir}' already exist.\")\n",
        "  except PermissionError:\n",
        "      print(f\"Permission denied: Unable to create '{save_dir}'.\")\n",
        "      return\n",
        "  except Exception as e:\n",
        "      print(f\"An error occurred: {e}\")\n",
        "      return\n",
        "\n",
        "  # uniformly distributed transformations\n",
        "\n",
        "  # variables\n",
        "  m = int(filename.split('_')[0])\n",
        "  N = knots_count[m]\n",
        "  n = max(1, round(MAX_N/N))\n",
        "  s = [0]*k\n",
        "  in_s = []\n",
        "  a = [math.ceil(n/2)]*k\n",
        "  b = [math.floor(n/2)]*k\n",
        "\n",
        "  for i in range(n):\n",
        "    # set bits of s\n",
        "    for j in range(k):\n",
        "      rand_choice = random.randint(1, a[j]+b[j])\n",
        "      if rand_choice <= a[j]:\n",
        "        s[j] = 0\n",
        "        a[j] -= 1\n",
        "      else:\n",
        "        s[j] = 1\n",
        "        b[j] -= 1\n",
        "    in_s.append(int(''.join(str(j) for j in s), 2))\n",
        "\n",
        "    cur_img = orig_img\n",
        "    # for clarity of the image\n",
        "    if(s[0] or s[2]):\n",
        "      if(s[0]): cur_img = list_of_transforms[0](cur_img)\n",
        "      if(s[2]): cur_img = list_of_transforms[2](cur_img)\n",
        "\n",
        "    for j in range(1, k):\n",
        "      if s[j] and j != 2:\n",
        "        cur_img = list_of_transforms[j](cur_img)\n",
        "\n",
        "    tensor_to_png(cur_img).convert('L').save(save_dir + f\"/{len(os.listdir(save_dir))}.png\", \"png\")\n",
        "    saved_imgs.append(save_dir + f\"/{len(os.listdir(save_dir))-1}.png\")"
      ],
      "metadata": {
        "id": "FNfwsCytv2d-"
      },
      "execution_count": 10,
      "outputs": []
    },
    {
      "cell_type": "code",
      "source": [
        "directory = os.fsencode(\"/content/new_knots_png\")\n",
        "\n",
        "# set -{number of knots you want to transform}\n",
        "N = 1\n",
        "\n",
        "saved_imgs = []\n",
        "\n",
        "# aka for knot_image in knots: save transforms of image\n",
        "for file in os.listdir(directory):\n",
        "    if(not N): break; N += 1\n",
        "    filename = os.path.splitext(os.fsdecode(file))[0]\n",
        "    save_transforms(str(filename), \"/content/new_knots_png/\")"
      ],
      "metadata": {
        "colab": {
          "base_uri": "https://localhost:8080/"
        },
        "outputId": "b691131f-2d5b-44c0-9b20-9fd7698e358d",
        "id": "I0xnYJy5q806"
      },
      "execution_count": 11,
      "outputs": [
        {
          "output_type": "stream",
          "name": "stdout",
          "text": [
            "One or more directories in '/content/saved_knots/9' already exist.\n",
            "One or more directories in '/content/saved_knots/9' already exist.\n",
            "One or more directories in '/content/saved_knots/9' already exist.\n",
            "One or more directories in '/content/saved_knots/9' already exist.\n",
            "One or more directories in '/content/saved_knots/9' already exist.\n",
            "One or more directories in '/content/saved_knots/9' already exist.\n",
            "One or more directories in '/content/saved_knots/9' already exist.\n",
            "One or more directories in '/content/saved_knots/8' already exist.\n",
            "One or more directories in '/content/saved_knots/8' already exist.\n",
            "One or more directories in '/content/saved_knots/9' already exist.\n",
            "One or more directories in '/content/saved_knots/7' already exist.\n",
            "One or more directories in '/content/saved_knots/7' already exist.\n",
            "One or more directories in '/content/saved_knots/9' already exist.\n",
            "One or more directories in '/content/saved_knots/9' already exist.\n",
            "One or more directories in '/content/saved_knots/9' already exist.\n",
            "One or more directories in '/content/saved_knots/7' already exist.\n",
            "One or more directories in '/content/saved_knots/9' already exist.\n",
            "One or more directories in '/content/saved_knots/9' already exist.\n",
            "One or more directories in '/content/saved_knots/9' already exist.\n",
            "One or more directories in '/content/saved_knots/8' already exist.\n",
            "One or more directories in '/content/saved_knots/8' already exist.\n",
            "One or more directories in '/content/saved_knots/9' already exist.\n",
            "One or more directories in '/content/saved_knots/9' already exist.\n",
            "One or more directories in '/content/saved_knots/9' already exist.\n",
            "One or more directories in '/content/saved_knots/9' already exist.\n",
            "One or more directories in '/content/saved_knots/9' already exist.\n",
            "One or more directories in '/content/saved_knots/9' already exist.\n",
            "One or more directories in '/content/saved_knots/8' already exist.\n",
            "One or more directories in '/content/saved_knots/8' already exist.\n",
            "One or more directories in '/content/saved_knots/9' already exist.\n",
            "One or more directories in '/content/saved_knots/9' already exist.\n",
            "One or more directories in '/content/saved_knots/8' already exist.\n",
            "One or more directories in '/content/saved_knots/9' already exist.\n",
            "One or more directories in '/content/saved_knots/10' already exist.\n",
            "One or more directories in '/content/saved_knots/7' already exist.\n",
            "One or more directories in '/content/saved_knots/9' already exist.\n",
            "One or more directories in '/content/saved_knots/8' already exist.\n",
            "One or more directories in '/content/saved_knots/9' already exist.\n",
            "One or more directories in '/content/saved_knots/5' already exist.\n",
            "One or more directories in '/content/saved_knots/9' already exist.\n",
            "One or more directories in '/content/saved_knots/9' already exist.\n",
            "One or more directories in '/content/saved_knots/9' already exist.\n",
            "One or more directories in '/content/saved_knots/9' already exist.\n",
            "One or more directories in '/content/saved_knots/9' already exist.\n",
            "One or more directories in '/content/saved_knots/8' already exist.\n",
            "One or more directories in '/content/saved_knots/8' already exist.\n",
            "One or more directories in '/content/saved_knots/8' already exist.\n",
            "One or more directories in '/content/saved_knots/8' already exist.\n",
            "One or more directories in '/content/saved_knots/8' already exist.\n",
            "One or more directories in '/content/saved_knots/9' already exist.\n",
            "One or more directories in '/content/saved_knots/9' already exist.\n",
            "One or more directories in '/content/saved_knots/9' already exist.\n",
            "One or more directories in '/content/saved_knots/9' already exist.\n",
            "One or more directories in '/content/saved_knots/9' already exist.\n",
            "One or more directories in '/content/saved_knots/8' already exist.\n",
            "One or more directories in '/content/saved_knots/8' already exist.\n",
            "One or more directories in '/content/saved_knots/8' already exist.\n",
            "One or more directories in '/content/saved_knots/10' already exist.\n",
            "One or more directories in '/content/saved_knots/9' already exist.\n",
            "One or more directories in '/content/saved_knots/9' already exist.\n",
            "One or more directories in '/content/saved_knots/9' already exist.\n",
            "One or more directories in '/content/saved_knots/6' already exist.\n",
            "One or more directories in '/content/saved_knots/7' already exist.\n",
            "One or more directories in '/content/saved_knots/9' already exist.\n",
            "One or more directories in '/content/saved_knots/9' already exist.\n",
            "One or more directories in '/content/saved_knots/9' already exist.\n",
            "One or more directories in '/content/saved_knots/7' already exist.\n",
            "One or more directories in '/content/saved_knots/9' already exist.\n",
            "One or more directories in '/content/saved_knots/8' already exist.\n",
            "One or more directories in '/content/saved_knots/8' already exist.\n",
            "One or more directories in '/content/saved_knots/9' already exist.\n",
            "One or more directories in '/content/saved_knots/9' already exist.\n",
            "One or more directories in '/content/saved_knots/8' already exist.\n",
            "One or more directories in '/content/saved_knots/6' already exist.\n",
            "One or more directories in '/content/saved_knots/8' already exist.\n",
            "One or more directories in '/content/saved_knots/9' already exist.\n",
            "One or more directories in '/content/saved_knots/9' already exist.\n",
            "One or more directories in '/content/saved_knots/9' already exist.\n",
            "One or more directories in '/content/saved_knots/9' already exist.\n"
          ]
        }
      ]
    },
    {
      "cell_type": "code",
      "source": [
        "for dir in os.listdir(\"/content/saved_knots\"):\n",
        "  num = len(os.listdir(f\"/content/saved_knots/{dir}\"))\n",
        "  for file_num in range(num):\n",
        "    filename = f\"{file_num}.png\"\n",
        "    for i in range(1, 21, 1):\n",
        "      img = v2.Resize((IMG_SIZE-2*i, IMG_SIZE-2*i))(png_to_tensor(f\"/content/saved_knots/{dir}/{filename}\"))\n",
        "      img = v2.Pad(padding=i, fill=255)(img)\n",
        "      tensor_to_png(img).convert('L').save(f\"/content/saved_knots/{dir}/{num - 1 + file_num*20 + i}.png\", \"png\")\n",
        "      saved_imgs.append(f\"/content/saved_knots/{dir}/{num - 1 + file_num*20 + i}.png\")"
      ],
      "metadata": {
        "id": "Mf756pBfoU44"
      },
      "execution_count": 12,
      "outputs": []
    },
    {
      "cell_type": "code",
      "source": [
        "import zipfile\n",
        "\n",
        "# save all to the .zip file\n",
        "with zipfile.ZipFile(\"knots_aug.zip\", \"w\") as saved_imgs_arch:\n",
        "    for imgname in saved_imgs:\n",
        "      saved_imgs_arch.write(imgname)"
      ],
      "metadata": {
        "id": "nCm8BQYlyCXO"
      },
      "execution_count": 13,
      "outputs": []
    },
    {
      "cell_type": "markdown",
      "source": [
        "# Networks\n",
        "\n",
        "You can start this section by uploading previously zip archive in /content"
      ],
      "metadata": {
        "id": "6clGoHu4HOsx"
      }
    },
    {
      "cell_type": "markdown",
      "source": [
        "## Preparation"
      ],
      "metadata": {
        "id": "jgyWVDcLHROS"
      }
    },
    {
      "cell_type": "code",
      "source": [
        "# extract .zip\n",
        "import zipfile\n",
        "import shutil # deletes /content/content directory\n",
        "import glob # searches for .zip files\n",
        "\n",
        "try:\n",
        "  shutil.remove(\"/content/saved_knots\")\n",
        "except Exception as e:\n",
        "  pass\n",
        "\n",
        "# get all .zip files from local storage\n",
        "files = glob.glob('*.zip')\n",
        "\n",
        "# if 2 or more files occured, we don't know which we want to extract\n",
        "if len(files) > 1:\n",
        "  print(\"Don't know which archive to unpack\")\n",
        "else:\n",
        "  # unpack .zip\n",
        "  with zipfile.ZipFile(f\"/content/{files[0]}\",\"r\") as zip_ref:\n",
        "      zip_ref.extractall(\"/content\")\n",
        "\n",
        "  # structure of .zip archive (for now) is archive.zip/content/saved_knots/, so after unpacking it we get /content/content/saved_knots dir, which is not comfortable to work with,\n",
        "  shutil.move(\"/content/content/saved_knots\", \"/content/saved_knots\") # so we move it 'higher' one level\n",
        "  shutil.rmtree(\"/content/content\") # and delete previous one"
      ],
      "metadata": {
        "id": "_emTTJ-IeQ45",
        "colab": {
          "base_uri": "https://localhost:8080/"
        },
        "outputId": "d85175f5-aff6-4580-ee78-a1f184ebda76"
      },
      "execution_count": 60,
      "outputs": [
        {
          "output_type": "stream",
          "name": "stdout",
          "text": [
            "Don't know which archive to unpack\n"
          ]
        }
      ]
    },
    {
      "cell_type": "code",
      "source": [
        "import torch\n",
        "from PIL import Image\n",
        "\n",
        "IMG_SIZE = 128"
      ],
      "metadata": {
        "id": "gxby9sMaeTDa"
      },
      "execution_count": 61,
      "outputs": []
    },
    {
      "cell_type": "code",
      "source": [
        "# we use torchvision.datasets.ImageFolder class to divide our data into classes and work with them efficiently\n",
        "# useful links: https://pytorch.org/vision/main/generated/torchvision.datasets.ImageFolder.html\n",
        "#\n",
        "#               https://debuggercafe.com/pytorch-imagefolder-for-training-cnn-models/\n",
        "\n",
        "import torchvision\n",
        "data_transform = torchvision.transforms.Compose([torchvision.transforms.Grayscale(num_output_channels=1),\n",
        "                                     torchvision.transforms.ToTensor()])\n",
        "data = torchvision.datasets.ImageFolder(root='/content/saved_knots',\n",
        "                                        transform=data_transform)"
      ],
      "metadata": {
        "id": "Ara_kmR63gGr"
      },
      "execution_count": 62,
      "outputs": []
    },
    {
      "cell_type": "code",
      "source": [
        "# shape of the element of the data array\n",
        "image = data[0][0]\n",
        "image.shape"
      ],
      "metadata": {
        "id": "v3VC2f-PJXxR",
        "colab": {
          "base_uri": "https://localhost:8080/"
        },
        "outputId": "35b19268-0881-4bd6-a920-bfe0c2badfe8"
      },
      "execution_count": 63,
      "outputs": [
        {
          "output_type": "execute_result",
          "data": {
            "text/plain": [
              "torch.Size([1, 128, 128])"
            ]
          },
          "metadata": {},
          "execution_count": 63
        }
      ]
    },
    {
      "cell_type": "code",
      "source": [
        "# split data into train and test sets\n",
        "k = 0.8 # train/all ratio\n",
        "train_len = int(k*len(data))\n",
        "train_data, test_data = torch.utils.data.random_split(data, [train_len, len(data)-train_len])"
      ],
      "metadata": {
        "id": "0vac7H-O3j3i"
      },
      "execution_count": 64,
      "outputs": []
    },
    {
      "cell_type": "code",
      "source": [
        "from torch.utils.data import DataLoader # iterable class; https://pytorch.org/docs/stable/data.html#torch.utils.data.DataLoader\n",
        "\n",
        "# Setup the batch size hyperparameter\n",
        "BATCH_SIZE = 64\n",
        "\n",
        "# Turn datasets into iterables (batches)\n",
        "train_dataloader = DataLoader(train_data, # dataset to turn into iterable\n",
        "    batch_size=BATCH_SIZE, # how many samples per batch?\n",
        "    shuffle=True # shuffle data every epoch?\n",
        ")\n",
        "\n",
        "test_dataloader = DataLoader(test_data)\n",
        "\n",
        "# Let's check out what we've created\n",
        "print(f\"Dataloaders: {train_dataloader, test_dataloader}\")\n",
        "print(f\"Length of train dataloader: {len(train_dataloader)} batches of {BATCH_SIZE}\")\n",
        "print(f\"Length of test dataloader: {len(test_dataloader)}\")"
      ],
      "metadata": {
        "id": "nPr_jm2qJgMc",
        "colab": {
          "base_uri": "https://localhost:8080/"
        },
        "outputId": "f761ef8e-e2aa-4df1-a851-dfd33fa9740b"
      },
      "execution_count": 142,
      "outputs": [
        {
          "output_type": "stream",
          "name": "stdout",
          "text": [
            "Dataloaders: (<torch.utils.data.dataloader.DataLoader object at 0x7ea5a0970510>, <torch.utils.data.dataloader.DataLoader object at 0x7ea5a0ab6e50>)\n",
            "Length of train dataloader: 114 batches of 64\n",
            "Length of test dataloader: 1811\n"
          ]
        }
      ]
    },
    {
      "cell_type": "code",
      "source": [
        "# Check out what's inside the training dataloader\n",
        "train_features_batch, train_labels_batch = next(iter(train_dataloader))\n",
        "train_features_batch.shape, train_labels_batch.shape"
      ],
      "metadata": {
        "id": "vZLa2qmrJjRJ",
        "colab": {
          "base_uri": "https://localhost:8080/"
        },
        "outputId": "92c24778-396c-44ae-f098-cd1a3d8e0cae"
      },
      "execution_count": 202,
      "outputs": [
        {
          "output_type": "execute_result",
          "data": {
            "text/plain": [
              "(torch.Size([64, 1, 128, 128]), torch.Size([64]))"
            ]
          },
          "metadata": {},
          "execution_count": 202
        }
      ]
    },
    {
      "cell_type": "code",
      "source": [
        "# show a sample\n",
        "import matplotlib.pyplot as plt\n",
        "\n",
        "random_idx = torch.randint(0, len(train_features_batch), size=[1]).item()\n",
        "img, label = train_features_batch[random_idx], train_labels_batch[random_idx]\n",
        "plt.imshow(img.squeeze(), cmap=\"gray\")\n",
        "plt.title(data.classes[label])\n",
        "plt.axis(\"Off\");\n",
        "print(f\"Image size: {img.shape}\")\n",
        "print(f\"Label: {label}, label size: {label.shape}\")\n",
        "print(data.classes)"
      ],
      "metadata": {
        "id": "KS8kJLGz3q5z",
        "colab": {
          "base_uri": "https://localhost:8080/",
          "height": 480
        },
        "outputId": "2a6e7f6b-e860-4557-d582-d32845a36811"
      },
      "execution_count": 203,
      "outputs": [
        {
          "output_type": "stream",
          "name": "stdout",
          "text": [
            "Image size: torch.Size([1, 128, 128])\n",
            "Label: 3, label size: torch.Size([])\n",
            "['0', '10', '3', '4', '5', '6', '7', '8', '9']\n"
          ]
        },
        {
          "output_type": "display_data",
          "data": {
            "text/plain": [
              "<Figure size 640x480 with 1 Axes>"
            ],
            "image/png": "[encoded data removed]"
          },
          "metadata": {}
        }
      ]
    },
    {
      "cell_type": "code",
      "source": [
        "# device-agnostic code\n",
        "device = \"cuda\" if torch.cuda.is_available() else \"cpu\" # cuda is MUCH faster\n",
        "device"
      ],
      "metadata": {
        "id": "UEbtzWO3JrM8",
        "colab": {
          "base_uri": "https://localhost:8080/",
          "height": 35
        },
        "outputId": "f01002a9-0370-423e-f176-a9ff6547eeec"
      },
      "execution_count": 68,
      "outputs": [
        {
          "output_type": "execute_result",
          "data": {
            "text/plain": [
              "'cuda'"
            ],
            "application/vnd.google.colaboratory.intrinsic+json": {
              "type": "string"
            }
          },
          "metadata": {},
          "execution_count": 68
        }
      ]
    },
    {
      "cell_type": "code",
      "source": [
        "import requests\n",
        "from pathlib import Path\n",
        "\n",
        "# Download helper functions from Learn PyTorch repo (if not already downloaded)\n",
        "if Path(\"helper_functions.py\").is_file():\n",
        "  print(\"helper_functions.py already exists, skipping download\")\n",
        "else:\n",
        "  print(\"Downloading helper_functions.py\")\n",
        "  request = requests.get(\"https://raw.githubusercontent.com/mrdbourke/pytorch-deep-learning/main/helper_functions.py\")\n",
        "  with open(\"helper_functions.py\", \"wb\") as f:\n",
        "    f.write(request.content)"
      ],
      "metadata": {
        "id": "k1Mo9uzoJ0rV",
        "colab": {
          "base_uri": "https://localhost:8080/"
        },
        "outputId": "afba61a0-a002-498d-d730-f430f0a2f3b2"
      },
      "execution_count": 69,
      "outputs": [
        {
          "output_type": "stream",
          "name": "stdout",
          "text": [
            "helper_functions.py already exists, skipping download\n"
          ]
        }
      ]
    },
    {
      "cell_type": "markdown",
      "source": [
        "## Vanila"
      ],
      "metadata": {
        "id": "2uMCA7zys0ti"
      }
    },
    {
      "cell_type": "code",
      "source": [
        "from torch import nn\n",
        "\n",
        "# Create a model with non-linear and linear layers\n",
        "class KnotsModelVanila(nn.Module):\n",
        "    def __init__(self, input_shape: int, hidden_units_1: int, hidden_units_2: int, hidden_units_3:int, hidden_units_4: int, output_shape: int): # try to change the number of hidden layers\n",
        "        super().__init__()\n",
        "        self.layer_stack = nn.Sequential(\n",
        "            nn.BatchNorm2d(num_features=1),\n",
        "            nn.Flatten(), # flatten inputs into single vector\n",
        "            nn.Linear(in_features=input_shape, out_features=hidden_units_1),\n",
        "            nn.ELU(),\n",
        "            nn.Linear(in_features=hidden_units_1, out_features=hidden_units_2),\n",
        "            nn.ELU(),\n",
        "            nn.Linear(in_features=hidden_units_2, out_features=hidden_units_3),\n",
        "            nn.ELU(),\n",
        "            nn.Linear(in_features=hidden_units_3, out_features=hidden_units_4),\n",
        "            nn.ELU(),\n",
        "            nn.Linear(in_features=hidden_units_4, out_features=output_shape),\n",
        "        )\n",
        "\n",
        "    def forward(self, x: torch.Tensor):\n",
        "      return self.layer_stack(x)"
      ],
      "metadata": {
        "id": "gH2qcn8wqcdg"
      },
      "execution_count": 248,
      "outputs": []
    },
    {
      "cell_type": "code",
      "source": [
        "model_1 = KnotsModelVanila(input_shape=(IMG_SIZE)**2, # number of input features\n",
        "    hidden_units_1=500,\n",
        "    hidden_units_2=600,\n",
        "    hidden_units_3=200,\n",
        "    hidden_units_4=50,\n",
        "    output_shape=1 # number of output classes desired\n",
        ").to(device) # send model to GPU if it's available\n",
        "next(model_1.parameters()).device # check model device"
      ],
      "metadata": {
        "id": "pCjU-BBirj_5",
        "colab": {
          "base_uri": "https://localhost:8080/"
        },
        "outputId": "39672dc4-ad52-4696-9b31-3dd194f86da6"
      },
      "execution_count": 249,
      "outputs": [
        {
          "output_type": "execute_result",
          "data": {
            "text/plain": [
              "device(type='cuda', index=0)"
            ]
          },
          "metadata": {},
          "execution_count": 249
        }
      ]
    },
    {
      "cell_type": "code",
      "source": [
        "# standart functions\n",
        "from helper_functions import accuracy_fn\n",
        "loss_fn = nn.MSELoss()\n",
        "optimizer = torch.optim.Adam(params=model_1.parameters(),\n",
        "                            lr=0.0003) # try to change lr"
      ],
      "metadata": {
        "id": "1HamOckIVPfb"
      },
      "execution_count": 252,
      "outputs": []
    },
    {
      "cell_type": "code",
      "source": [
        "# aka training loop\n",
        "def train_step(model: torch.nn.Module,\n",
        "               data_loader: torch.utils.data.DataLoader,\n",
        "               loss_fn: torch.nn.Module,\n",
        "               optimizer: torch.optim.Optimizer,\n",
        "               accuracy_fn,\n",
        "               device: torch.device = device):\n",
        "    train_loss, train_acc = 0, 0\n",
        "    model.to(device)\n",
        "    for (X, y) in data_loader:\n",
        "        # Send data to GPU\n",
        "        X, y = X.to(device), y.to(device)\n",
        "\n",
        "        # 1. Forward pass\n",
        "        y_pred = model(X).squeeze(dim=1)\n",
        "        # 2. Calculate loss\n",
        "        loss = loss_fn(y_pred, y.type(torch.float32))\n",
        "        \"\"\"print(y)\n",
        "        print(y_pred)\n",
        "        input()\"\"\"\n",
        "        train_loss += loss\n",
        "        train_acc += accuracy_fn(y_true=y,\n",
        "                                 y_pred=y_pred.round()) # Go from logits -> pred labels\n",
        "\n",
        "        # 3. Optimizer zero grad\n",
        "        optimizer.zero_grad()\n",
        "\n",
        "        # 4. Loss backward\n",
        "        loss.backward()\n",
        "\n",
        "        # 5. Optimizer step\n",
        "        optimizer.step()\n",
        "\n",
        "    # Calculate loss and accuracy per epoch and print out what's happening\n",
        "    train_loss /= len(data_loader)\n",
        "    train_acc /= len(data_loader)\n",
        "    print(f\"Train loss: {train_loss:.5f} | Train accuracy: {train_acc:.2f}%\")\n",
        "    train_losses.append(train_loss.cpu().detach().numpy())\n",
        "\n",
        "# aka testing loop\n",
        "def test_step(data_loader: torch.utils.data.DataLoader,\n",
        "              model: torch.nn.Module,\n",
        "              loss_fn: torch.nn.Module,\n",
        "              accuracy_fn,\n",
        "              device: torch.device = device):\n",
        "    test_loss, test_acc = 0, 0\n",
        "    model.to(device)\n",
        "    model.eval() # put model in eval mode\n",
        "    # Turn on inference context manager\n",
        "    with torch.inference_mode():\n",
        "        for X, y in data_loader:\n",
        "            # Send data to GPU\n",
        "            X, y = X.to(device), y.to(device)\n",
        "\n",
        "            # 1. Forward pass\n",
        "            test_pred = model(X).squeeze(dim=1)\n",
        "\n",
        "            # 2. Calculate loss and accuracy\n",
        "            test_loss += loss_fn(test_pred, y.type(torch.float32))\n",
        "            test_acc += accuracy_fn(y_true=y,\n",
        "                y_pred=test_pred.round() # Go from logits -> pred labels\n",
        "            )\n",
        "\n",
        "        # Adjust metrics and print out\n",
        "        test_loss /= len(data_loader)\n",
        "        test_acc /= len(data_loader)\n",
        "        print(f\"Test loss: {test_loss:.5f} | Test accuracy: {test_acc:.2f}%\\n\")\n",
        "        test_losses.append(test_loss.cpu().detach().numpy())"
      ],
      "metadata": {
        "id": "DwNuLW3wVUiT"
      },
      "execution_count": 253,
      "outputs": []
    },
    {
      "cell_type": "code",
      "source": [
        "# let's try our model\n",
        "epochs = 9\n",
        "train_losses, test_losses = [], []\n",
        "for epoch in range(epochs):\n",
        "    print(f\"Epoch: {epoch}\\n---------\")\n",
        "    train_step(data_loader=train_dataloader,\n",
        "        model=model_1,\n",
        "        loss_fn=loss_fn,\n",
        "        optimizer=optimizer,\n",
        "        accuracy_fn=accuracy_fn\n",
        "    )\n",
        "    test_step(data_loader=test_dataloader,\n",
        "        model=model_1,\n",
        "        loss_fn=loss_fn,\n",
        "        accuracy_fn=accuracy_fn\n",
        "    )"
      ],
      "metadata": {
        "colab": {
          "base_uri": "https://localhost:8080/"
        },
        "id": "eMIEUfcyVXcM",
        "outputId": "8f3b230d-5fd4-401c-811b-87d1c9a02a31"
      },
      "execution_count": 254,
      "outputs": [
        {
          "output_type": "stream",
          "name": "stdout",
          "text": [
            "Epoch: 0\n",
            "---------\n",
            "Train loss: 3.51530 | Train accuracy: 25.36%\n",
            "Test loss: 1.84549 | Test accuracy: 24.63%\n",
            "\n",
            "Epoch: 1\n",
            "---------\n",
            "Train loss: 0.77797 | Train accuracy: 54.80%\n",
            "Test loss: 0.44083 | Test accuracy: 68.80%\n",
            "\n",
            "Epoch: 2\n",
            "---------\n",
            "Train loss: 0.17041 | Train accuracy: 83.77%\n",
            "Test loss: 0.20603 | Test accuracy: 81.34%\n",
            "\n",
            "Epoch: 3\n",
            "---------\n",
            "Train loss: 0.05662 | Train accuracy: 95.11%\n",
            "Test loss: 0.09203 | Test accuracy: 94.04%\n",
            "\n",
            "Epoch: 4\n",
            "---------\n",
            "Train loss: 0.03447 | Train accuracy: 98.11%\n",
            "Test loss: 0.08483 | Test accuracy: 95.25%\n",
            "\n",
            "Epoch: 5\n",
            "---------\n",
            "Train loss: 0.02356 | Train accuracy: 99.22%\n",
            "Test loss: 0.06867 | Test accuracy: 96.58%\n",
            "\n",
            "Epoch: 6\n",
            "---------\n",
            "Train loss: 0.01826 | Train accuracy: 99.63%\n",
            "Test loss: 0.05886 | Test accuracy: 97.13%\n",
            "\n",
            "Epoch: 7\n",
            "---------\n",
            "Train loss: 0.01597 | Train accuracy: 99.70%\n",
            "Test loss: 0.05958 | Test accuracy: 96.63%\n",
            "\n",
            "Epoch: 8\n",
            "---------\n",
            "Train loss: 0.01055 | Train accuracy: 99.79%\n",
            "Test loss: 0.05423 | Test accuracy: 97.29%\n",
            "\n"
          ]
        }
      ]
    },
    {
      "cell_type": "code",
      "source": [
        "import matplotlib.pyplot as plt\n",
        "\n",
        "plt.figure(figsize=(16, 10))\n",
        "plt.title(\"Loss\")\n",
        "\n",
        "plt.plot(range(epochs), train_losses, label=\"Train\", linewidth=2)\n",
        "plt.plot(range(epochs), test_losses, label=\"Test\", linewidth=2)\n",
        "\n",
        "plt.legend()\n",
        "plt.xlabel(\"Epoch\")\n",
        "plt.show()"
      ],
      "metadata": {
        "colab": {
          "base_uri": "https://localhost:8080/",
          "height": 872
        },
        "id": "E_5F8y-0yzZ8",
        "outputId": "1ca76005-595a-46cf-ab6e-f41103dfa565"
      },
      "execution_count": 255,
      "outputs": [
        {
          "output_type": "display_data",
          "data": {
            "text/plain": [
              "<Figure size 1600x1000 with 1 Axes>"
            ],
            "image/png": "[encoded data removed]"
          },
          "metadata": {}
        }
      ]
    },
    {
      "cell_type": "code",
      "source": [
        "def eval_model(model: torch.nn.Module,\n",
        "               data_loader: torch.utils.data.DataLoader,\n",
        "               loss_fn: torch.nn.Module,\n",
        "               accuracy_fn,\n",
        "               device: torch.device = device):\n",
        "    \"\"\"Evaluates a given model on a given dataset.\n",
        "\n",
        "    Args:\n",
        "        model (torch.nn.Module): A PyTorch model capable of making predictions on data_loader.\n",
        "        data_loader (torch.utils.data.DataLoader): The target dataset to predict on.\n",
        "        loss_fn (torch.nn.Module): The loss function of model.\n",
        "        accuracy_fn: An accuracy function to compare the models predictions to the truth labels.\n",
        "        device (str, optional): Target device to compute on. Defaults to device.\n",
        "\n",
        "    Returns:\n",
        "        (dict): Results of model making predictions on data_loader.\n",
        "    \"\"\"\n",
        "    loss, acc = 0, 0\n",
        "    model.eval()\n",
        "    with torch.inference_mode():\n",
        "        for X, y in data_loader:\n",
        "            # Send data to the target device\n",
        "            X, y = X.to(device), y.to(device)\n",
        "            y_pred = model(X).squeeze(dim=1)\n",
        "            loss += loss_fn(y_pred, y)\n",
        "            acc += accuracy_fn(y_true=y,\n",
        "                                y_pred=y_pred.round())\n",
        "\n",
        "        # Scale loss and acc\n",
        "        loss /= len(data_loader)\n",
        "        acc /= len(data_loader)\n",
        "    return {\"model_name\": model.__class__.__name__, # only works when model was created with a class\n",
        "            \"model_loss\": loss.item(),\n",
        "            \"model_acc\": acc}"
      ],
      "metadata": {
        "id": "oS0q8NAM2hwx"
      },
      "execution_count": 261,
      "outputs": []
    },
    {
      "cell_type": "code",
      "source": [
        "# Calculate model 1 results with device-agnostic code\n",
        "model_1_results = eval_model(model=model_1, data_loader=test_dataloader,\n",
        "                             loss_fn=loss_fn,\n",
        "                             accuracy_fn=accuracy_fn,\n",
        "                             device=device\n",
        "                         )\n",
        "model_1_results"
      ],
      "metadata": {
        "id": "XY7n4nLbtsEk",
        "colab": {
          "base_uri": "https://localhost:8080/"
        },
        "outputId": "3cf03ff0-2081-4706-8f0f-4d68b7778e9f"
      },
      "execution_count": 262,
      "outputs": [
        {
          "output_type": "execute_result",
          "data": {
            "text/plain": [
              "{'model_name': 'KnotsModelVanila',\n",
              " 'model_loss': 0.054231733083724976,\n",
              " 'model_acc': 97.29431253451132}"
            ]
          },
          "metadata": {},
          "execution_count": 262
        }
      ]
    },
    {
      "cell_type": "code",
      "source": [
        "from pathlib import Path\n",
        "\n",
        "# 1. Create models directory\n",
        "MODEL_PATH = Path(\"models\")\n",
        "MODEL_PATH.mkdir(parents=True, exist_ok=True)\n",
        "\n",
        "# 2. Create model save path\n",
        "MODEL_NAME = \"01_pytorch_workflow_model_1.pth\"\n",
        "MODEL_SAVE_PATH = MODEL_PATH / MODEL_NAME\n",
        "\n",
        "# 3. Save the model state dict\n",
        "print(f\"Saving model to: {MODEL_SAVE_PATH}\")\n",
        "torch.save(obj=model_1.state_dict(), # only saving the state_dict() only saves the models learned parameters\n",
        "           f=MODEL_SAVE_PATH)"
      ],
      "metadata": {
        "colab": {
          "base_uri": "https://localhost:8080/"
        },
        "id": "32dSpjeqBUb1",
        "outputId": "00920c84-0c4a-49c8-9f89-0ad639e881f5"
      },
      "execution_count": 258,
      "outputs": [
        {
          "output_type": "stream",
          "name": "stdout",
          "text": [
            "Saving model to: models/01_pytorch_workflow_model_1.pth\n"
          ]
        }
      ]
    },
    {
      "cell_type": "code",
      "source": [
        "# Instantiate a fresh instance of LinearRegressionModelV2\n",
        "loaded_model_1 = KnotsModelVanila(input_shape=(IMG_SIZE)**2, # number of input features\n",
        "                                  hidden_units_1=500,\n",
        "                                  hidden_units_2=600,\n",
        "                                  hidden_units_3=200,\n",
        "                                  hidden_units_4=50,\n",
        "                                  output_shape=1 # number of output classes desired\n",
        "                              ).to(device) # send model to GPU if it's available\n",
        "next(model_1.parameters()).device # check model device\n",
        "\n",
        "# Load model state dict\n",
        "loaded_model_1.load_state_dict(torch.load(MODEL_SAVE_PATH))\n",
        "\n",
        "# Put model to target device (if your data is on GPU, model will have to be on GPU to make predictions)\n",
        "loaded_model_1.to(device)\n",
        "\n",
        "print(f\"Loaded model:\\n{loaded_model_1}\")\n",
        "print(f\"Model on device:\\n{next(loaded_model_1.parameters()).device}\")"
      ],
      "metadata": {
        "colab": {
          "base_uri": "https://localhost:8080/"
        },
        "id": "XGdnjg82BnKl",
        "outputId": "c4c50445-b8ea-4d51-9ab5-17d54822124f"
      },
      "execution_count": 259,
      "outputs": [
        {
          "output_type": "stream",
          "name": "stdout",
          "text": [
            "Loaded model:\n",
            "KnotsModelVanila(\n",
            "  (layer_stack): Sequential(\n",
            "    (0): BatchNorm2d(1, eps=1e-05, momentum=0.1, affine=True, track_running_stats=True)\n",
            "    (1): Flatten(start_dim=1, end_dim=-1)\n",
            "    (2): Linear(in_features=16384, out_features=500, bias=True)\n",
            "    (3): ELU(alpha=1.0)\n",
            "    (4): Linear(in_features=500, out_features=600, bias=True)\n",
            "    (5): ELU(alpha=1.0)\n",
            "    (6): Linear(in_features=600, out_features=200, bias=True)\n",
            "    (7): ELU(alpha=1.0)\n",
            "    (8): Linear(in_features=200, out_features=50, bias=True)\n",
            "    (9): ELU(alpha=1.0)\n",
            "    (10): Linear(in_features=50, out_features=1, bias=True)\n",
            "  )\n",
            ")\n",
            "Model on device:\n",
            "cuda:0\n"
          ]
        }
      ]
    },
    {
      "cell_type": "code",
      "source": [
        "model_1_loaded_results = eval_model(model=loaded_model_1, data_loader=test_dataloader,\n",
        "                             loss_fn=loss_fn,\n",
        "                             accuracy_fn=accuracy_fn,\n",
        "                             device=device\n",
        "                         )\n",
        "model_1_loaded_results"
      ],
      "metadata": {
        "colab": {
          "base_uri": "https://localhost:8080/"
        },
        "id": "MrkQ0TuNCZFf",
        "outputId": "9ef01007-30aa-42e5-cf03-672f30e5051d"
      },
      "execution_count": 263,
      "outputs": [
        {
          "output_type": "execute_result",
          "data": {
            "text/plain": [
              "{'model_name': 'KnotsModelVanila',\n",
              " 'model_loss': 0.054231733083724976,\n",
              " 'model_acc': 97.29431253451132}"
            ]
          },
          "metadata": {},
          "execution_count": 263
        }
      ]
    }
  ]
}